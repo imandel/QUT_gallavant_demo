{
 "cells": [
  {
   "cell_type": "markdown",
   "id": "a2511e63",
   "metadata": {},
   "source": [
    "Install dependencies"
   ]
  },
  {
   "cell_type": "code",
   "execution_count": 1,
   "id": "98ad7560",
   "metadata": {},
   "outputs": [],
   "source": [
    "# %pip install gallavant pandas"
   ]
  },
  {
   "cell_type": "markdown",
   "id": "97164c7d",
   "metadata": {},
   "source": [
    "import dependencies"
   ]
  },
  {
   "cell_type": "code",
   "execution_count": 1,
   "id": "435e14bb",
   "metadata": {},
   "outputs": [
    {
     "name": "stderr",
     "output_type": "stream",
     "text": [
      "Importing display from IPython.core.display is deprecated since IPython 7.14, please import from IPython display\n"
     ]
    },
    {
     "data": {
      "text/html": [
       "<style>.container { width:100% !important; }</style>"
      ],
      "text/plain": [
       "<IPython.core.display.HTML object>"
      ]
     },
     "metadata": {},
     "output_type": "display_data"
    }
   ],
   "source": [
    "from gallavant import MapView\n",
    "from datetime import datetime\n",
    "from pathlib import Path\n",
    "import pandas as pd\n",
    "import json\n",
    "\n",
    "from IPython.core.display import display, HTML\n",
    "display(HTML(\"<style>.container { width:100% !important; }</style>\"))\n"
   ]
  },
  {
   "cell_type": "code",
   "execution_count": 2,
   "id": "2dd74ce2",
   "metadata": {},
   "outputs": [],
   "source": [
    "filepath = Path('./Data example/Study_1/Data/280821_S_HOB804105_SCH994680/RTMaps/20210728_130455_RecFile_1/')"
   ]
  },
  {
   "cell_type": "markdown",
   "id": "b82c1bb7",
   "metadata": {},
   "source": [
    "You should only need to run this cell once to combine the audio and video from RTMaps (must have ffmpeg installed)"
   ]
  },
  {
   "cell_type": "code",
   "execution_count": 7,
   "id": "b1bb35ef",
   "metadata": {},
   "outputs": [],
   "source": [
    "# !ffmpeg -y -i '{filepath}/RecFile_1_20210728_130455_QuadView_output.mp4' -i '{filepath}/RecFile_1_20210728_130455_Microphone_output.mp2' -c:v copy -c:a aac -map 0:v:0 -map 1:a:0 '{filepath}/output.mp4'"
   ]
  },
  {
   "cell_type": "markdown",
   "id": "6c393eff",
   "metadata": {},
   "source": [
    "Some helper functions to convert nmea to lat lng and markers to gallavant data"
   ]
  },
  {
   "cell_type": "code",
   "execution_count": 3,
   "id": "511f822e",
   "metadata": {},
   "outputs": [],
   "source": [
    "def parseGPS(data):\n",
    "    if data[0:6] == \"$GPRMC\":\n",
    "        sdata = data.split(\",\")\n",
    "        if sdata[2] == 'V':\n",
    "            return None\n",
    "        time = sdata[1][0:2] + \":\" + sdata[1][2:4] + \":\" + sdata[1][4:6]\n",
    "        lat = decode(sdata[3]) #latitude\n",
    "        if sdata[4] == 'S':      #latitude direction N/S\n",
    "            lat = -1 * lat\n",
    "        lon = decode(sdata[5]) #longitute\n",
    "        if sdata[6] == 'W':      #longitude direction E/W\n",
    "            lon = -1 * lon\n",
    "#         speed = sdata[7]       #Speed in knots\n",
    "#         trCourse = sdata[8]    #True course\n",
    "#         date = sdata[9][0:2] + \"/\" + sdata[9][2:4] + \"/\" + sdata[9][4:6]#date\n",
    "        return [lon, lat]\n",
    "    \n",
    "    \n",
    "def decode(coord):\n",
    "    #Converts DDDMM.MMMMM > DD \n",
    "    x = coord.split(\".\")\n",
    "    head = x[0]\n",
    "    tail = float(f\"0.{x[1]}\")\n",
    "    deg = float(head[0:-2])\n",
    "    sec = float(head[-2:]) + tail\n",
    "    DD = deg + sec/60\n",
    "    return DD\n",
    "\n",
    "def parseClicks(clicks_path, start_time, vid_src, outpath):\n",
    "    with open(clicks_path, 'r') as inf:\n",
    "        clicks = inf.readlines()\n",
    "    output = []\n",
    "    for idx, click in enumerate(clicks):\n",
    "        timestamp = int(click.split(';')[0])/1000000\n",
    "#         print(timestamp)\n",
    "        click_kp = {'value': 'click', \n",
    "                   'type': 'tag',\n",
    "                   'start':timestamp - 5 - start_time ,\n",
    "                   'end': timestamp + 5 - start_time ,\n",
    "                   'author': 'participant',\n",
    "                    'id': f\"click_{idx}\",\n",
    "                   'src': vid_src\n",
    "                  }\n",
    "        output.append(click_kp)\n",
    "    return output\n"
   ]
  },
  {
   "cell_type": "code",
   "execution_count": 4,
   "id": "8acb685f",
   "metadata": {},
   "outputs": [],
   "source": [
    "with open(filepath/'RecFile_1_20210728_130455_GPS_GPS_Text.csv', 'r') as inf:\n",
    "    pts = inf.readlines()\n",
    "gps_data = [(int(timestamp), gps_string) for timestamp, gps_string in [pt.split(';') for pt in pts]]\n",
    "\n",
    "timestamps = []\n",
    "cords = []\n",
    "\n",
    "for pt in gps_data:\n",
    "    gps = parseGPS(pt[1])\n",
    "    if gps:\n",
    "        timestamps.append(datetime.utcfromtimestamp(pt[0]/1000000).isoformat())\n",
    "        cords.append(gps)"
   ]
  },
  {
   "cell_type": "code",
   "execution_count": 5,
   "id": "1faf49b2",
   "metadata": {},
   "outputs": [],
   "source": [
    "geojson = {'type': 'FeatureCollection',\n",
    "           'features': [{'type': 'Feature',\n",
    "                         'properties': {'time': '', 'coordinateProperties': {'times': []}},\n",
    "                         'geometry': {'type': 'LineString', 'coordinates': []}\n",
    "                        }]\n",
    "          }"
   ]
  },
  {
   "cell_type": "code",
   "execution_count": 6,
   "id": "47d5dd42",
   "metadata": {},
   "outputs": [],
   "source": [
    "geojson['features'][0]['properties']['time'] = datetime.utcfromtimestamp(gps_data[0][0]/1000000).isoformat()\n",
    "geojson['features'][0]['properties']['coordinateProperties']['times'] = timestamps\n",
    "geojson['features'][0]['geometry']['coordinates'] = cords"
   ]
  },
  {
   "cell_type": "code",
   "execution_count": 7,
   "id": "15dcfd68",
   "metadata": {},
   "outputs": [],
   "source": [
    "with open('route.geojson', 'w') as of:\n",
    "    json.dump(geojson, of)"
   ]
  },
  {
   "cell_type": "code",
   "execution_count": 8,
   "id": "b6e7179d",
   "metadata": {},
   "outputs": [],
   "source": [
    "click_data = parseClicks(filepath/'RecFile_1_20210728_130455_Pmarker_Pmarker_Integer32.csv', gps_data[0][0]/1000000, str(filepath / 'output.mp4'), filepath/'clicks.json')"
   ]
  },
  {
   "cell_type": "code",
   "execution_count": 10,
   "id": "e20417ac",
   "metadata": {
    "scrolled": false
   },
   "outputs": [
    {
     "data": {
      "application/vnd.jupyter.widget-view+json": {
       "model_id": "1a229572f8294c799cb4c76dd78d90fb",
       "version_major": 2,
       "version_minor": 0
      },
      "text/plain": [
       "MapView(gps='./route.geojson', peaks='Data example/Study_1/Data/280821_S_HOB804105_SCH994680/RTMaps/20210728_1…"
      ]
     },
     "metadata": {},
     "output_type": "display_data"
    }
   ],
   "source": [
    "g = MapView(\n",
    "    src= str(filepath / 'output.mp4'),\n",
    "    gps = './route.geojson',\n",
    "    peaks='Data example/Study_1/Data/280821_S_HOB804105_SCH994680/RTMaps/20210728_130455_RecFile_1/output.peaks.json',\n",
    "    views=[str(filepath / 'RecFile_1_20210728_130455_Webcam_output.mp4')],\n",
    "#     peaks= str(filepath/'output.peaks.json'),\n",
    "    tags = ['click'],\n",
    "    df=pd.DataFrame(click_data)\n",
    ")\n",
    "g"
   ]
  },
  {
   "cell_type": "code",
   "execution_count": 11,
   "id": "1fb393f8",
   "metadata": {},
   "outputs": [
    {
     "data": {
      "text/html": [
       "<div>\n",
       "<style scoped>\n",
       "    .dataframe tbody tr th:only-of-type {\n",
       "        vertical-align: middle;\n",
       "    }\n",
       "\n",
       "    .dataframe tbody tr th {\n",
       "        vertical-align: top;\n",
       "    }\n",
       "\n",
       "    .dataframe thead th {\n",
       "        text-align: right;\n",
       "    }\n",
       "</style>\n",
       "<table border=\"1\" class=\"dataframe\">\n",
       "  <thead>\n",
       "    <tr style=\"text-align: right;\">\n",
       "      <th></th>\n",
       "      <th>value</th>\n",
       "      <th>type</th>\n",
       "      <th>id</th>\n",
       "      <th>start</th>\n",
       "      <th>end</th>\n",
       "      <th>author</th>\n",
       "      <th>src</th>\n",
       "    </tr>\n",
       "  </thead>\n",
       "  <tbody>\n",
       "    <tr>\n",
       "      <th>0</th>\n",
       "      <td>click</td>\n",
       "      <td>tag</td>\n",
       "      <td>click_0</td>\n",
       "      <td>42.401881</td>\n",
       "      <td>52.401881</td>\n",
       "      <td>participant</td>\n",
       "      <td>Data example/Study_1/Data/280821_S_HOB804105_S...</td>\n",
       "    </tr>\n",
       "    <tr>\n",
       "      <th>1</th>\n",
       "      <td></td>\n",
       "      <td>comment</td>\n",
       "      <td>click_0</td>\n",
       "      <td>42.401881</td>\n",
       "      <td>52.401881</td>\n",
       "      <td>participant</td>\n",
       "      <td>Data example/Study_1/Data/280821_S_HOB804105_S...</td>\n",
       "    </tr>\n",
       "    <tr>\n",
       "      <th>2</th>\n",
       "      <td>click</td>\n",
       "      <td>tag</td>\n",
       "      <td>click_1</td>\n",
       "      <td>56.385500</td>\n",
       "      <td>66.385500</td>\n",
       "      <td>participant</td>\n",
       "      <td>Data example/Study_1/Data/280821_S_HOB804105_S...</td>\n",
       "    </tr>\n",
       "    <tr>\n",
       "      <th>3</th>\n",
       "      <td></td>\n",
       "      <td>comment</td>\n",
       "      <td>click_1</td>\n",
       "      <td>56.385500</td>\n",
       "      <td>66.385500</td>\n",
       "      <td>participant</td>\n",
       "      <td>Data example/Study_1/Data/280821_S_HOB804105_S...</td>\n",
       "    </tr>\n",
       "    <tr>\n",
       "      <th>4</th>\n",
       "      <td>click</td>\n",
       "      <td>tag</td>\n",
       "      <td>click_2</td>\n",
       "      <td>62.785710</td>\n",
       "      <td>72.785710</td>\n",
       "      <td>participant</td>\n",
       "      <td>Data example/Study_1/Data/280821_S_HOB804105_S...</td>\n",
       "    </tr>\n",
       "    <tr>\n",
       "      <th>...</th>\n",
       "      <td>...</td>\n",
       "      <td>...</td>\n",
       "      <td>...</td>\n",
       "      <td>...</td>\n",
       "      <td>...</td>\n",
       "      <td>...</td>\n",
       "      <td>...</td>\n",
       "    </tr>\n",
       "    <tr>\n",
       "      <th>126</th>\n",
       "      <td>click</td>\n",
       "      <td>tag</td>\n",
       "      <td>click_63</td>\n",
       "      <td>2152.146343</td>\n",
       "      <td>2162.146343</td>\n",
       "      <td>participant</td>\n",
       "      <td>Data example/Study_1/Data/280821_S_HOB804105_S...</td>\n",
       "    </tr>\n",
       "    <tr>\n",
       "      <th>127</th>\n",
       "      <td></td>\n",
       "      <td>comment</td>\n",
       "      <td>click_63</td>\n",
       "      <td>2152.146343</td>\n",
       "      <td>2162.146343</td>\n",
       "      <td>participant</td>\n",
       "      <td>Data example/Study_1/Data/280821_S_HOB804105_S...</td>\n",
       "    </tr>\n",
       "    <tr>\n",
       "      <th>128</th>\n",
       "      <td>click</td>\n",
       "      <td>tag</td>\n",
       "      <td>click_64</td>\n",
       "      <td>2177.202522</td>\n",
       "      <td>2187.202522</td>\n",
       "      <td>participant</td>\n",
       "      <td>Data example/Study_1/Data/280821_S_HOB804105_S...</td>\n",
       "    </tr>\n",
       "    <tr>\n",
       "      <th>129</th>\n",
       "      <td></td>\n",
       "      <td>comment</td>\n",
       "      <td>click_64</td>\n",
       "      <td>2177.202522</td>\n",
       "      <td>2187.202522</td>\n",
       "      <td>participant</td>\n",
       "      <td>Data example/Study_1/Data/280821_S_HOB804105_S...</td>\n",
       "    </tr>\n",
       "    <tr>\n",
       "      <th>130</th>\n",
       "      <td>sjfa;slkdjf</td>\n",
       "      <td>comment</td>\n",
       "      <td>map_etjct6cqh2o</td>\n",
       "      <td>173.617000</td>\n",
       "      <td>190.621000</td>\n",
       "      <td></td>\n",
       "      <td>Data example/Study_1/Data/280821_S_HOB804105_S...</td>\n",
       "    </tr>\n",
       "  </tbody>\n",
       "</table>\n",
       "<p>131 rows × 7 columns</p>\n",
       "</div>"
      ],
      "text/plain": [
       "           value     type               id        start          end  \\\n",
       "0          click      tag          click_0    42.401881    52.401881   \n",
       "1                 comment          click_0    42.401881    52.401881   \n",
       "2          click      tag          click_1    56.385500    66.385500   \n",
       "3                 comment          click_1    56.385500    66.385500   \n",
       "4          click      tag          click_2    62.785710    72.785710   \n",
       "..           ...      ...              ...          ...          ...   \n",
       "126        click      tag         click_63  2152.146343  2162.146343   \n",
       "127               comment         click_63  2152.146343  2162.146343   \n",
       "128        click      tag         click_64  2177.202522  2187.202522   \n",
       "129               comment         click_64  2177.202522  2187.202522   \n",
       "130  sjfa;slkdjf  comment  map_etjct6cqh2o   173.617000   190.621000   \n",
       "\n",
       "          author                                                src  \n",
       "0    participant  Data example/Study_1/Data/280821_S_HOB804105_S...  \n",
       "1    participant  Data example/Study_1/Data/280821_S_HOB804105_S...  \n",
       "2    participant  Data example/Study_1/Data/280821_S_HOB804105_S...  \n",
       "3    participant  Data example/Study_1/Data/280821_S_HOB804105_S...  \n",
       "4    participant  Data example/Study_1/Data/280821_S_HOB804105_S...  \n",
       "..           ...                                                ...  \n",
       "126  participant  Data example/Study_1/Data/280821_S_HOB804105_S...  \n",
       "127  participant  Data example/Study_1/Data/280821_S_HOB804105_S...  \n",
       "128  participant  Data example/Study_1/Data/280821_S_HOB804105_S...  \n",
       "129  participant  Data example/Study_1/Data/280821_S_HOB804105_S...  \n",
       "130               Data example/Study_1/Data/280821_S_HOB804105_S...  \n",
       "\n",
       "[131 rows x 7 columns]"
      ]
     },
     "execution_count": 11,
     "metadata": {},
     "output_type": "execute_result"
    }
   ],
   "source": [
    "g.df.to_csv('path.csv')"
   ]
  },
  {
   "cell_type": "code",
   "execution_count": null,
   "id": "9cbe8634",
   "metadata": {},
   "outputs": [],
   "source": []
  }
 ],
 "metadata": {
  "kernelspec": {
   "display_name": "Python 3 (ipykernel)",
   "language": "python",
   "name": "python3"
  },
  "language_info": {
   "codemirror_mode": {
    "name": "ipython",
    "version": 3
   },
   "file_extension": ".py",
   "mimetype": "text/x-python",
   "name": "python",
   "nbconvert_exporter": "python",
   "pygments_lexer": "ipython3",
   "version": "3.9.7"
  }
 },
 "nbformat": 4,
 "nbformat_minor": 5
}
